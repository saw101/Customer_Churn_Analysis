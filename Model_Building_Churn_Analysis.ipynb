{
 "cells": [
  {
   "cell_type": "code",
   "execution_count": 1,
   "metadata": {},
   "outputs": [],
   "source": [
    "# Importing the required libraries\n",
    "import pandas as pd\n",
    "import numpy as np\n",
    "import seaborn as sns\n",
    "import matplotlib.pyplot as plt\n",
    "import pickle\n",
    "from sklearn.model_selection import train_test_split\n",
    "from sklearn.metrics import classification_report, confusion_matrix, accuracy_score , recall_score , precision_score , f1_score , plot_roc_curve , plot_confusion_matrix\n",
    "import warnings\n",
    "warnings.filterwarnings(action=\"ignore\", message=r'.*Use subset.*of np.ndarray is not recommended')\n",
    "from imblearn.combine import SMOTEENN \n",
    "from sklearn.tree import DecisionTreeClassifier\n",
    "from sklearn.ensemble import RandomForestClassifier"
   ]
  },
  {
   "cell_type": "code",
   "execution_count": 2,
   "metadata": {},
   "outputs": [
    {
     "data": {
      "text/html": [
       "<div>\n",
       "<style scoped>\n",
       "    .dataframe tbody tr th:only-of-type {\n",
       "        vertical-align: middle;\n",
       "    }\n",
       "\n",
       "    .dataframe tbody tr th {\n",
       "        vertical-align: top;\n",
       "    }\n",
       "\n",
       "    .dataframe thead th {\n",
       "        text-align: right;\n",
       "    }\n",
       "</style>\n",
       "<table border=\"1\" class=\"dataframe\">\n",
       "  <thead>\n",
       "    <tr style=\"text-align: right;\">\n",
       "      <th></th>\n",
       "      <th>SeniorCitizen</th>\n",
       "      <th>tenure</th>\n",
       "      <th>MonthlyCharges</th>\n",
       "      <th>TotalCharges</th>\n",
       "      <th>Churn</th>\n",
       "      <th>gender_Female</th>\n",
       "      <th>gender_Male</th>\n",
       "      <th>Partner_No</th>\n",
       "      <th>Partner_Yes</th>\n",
       "      <th>Dependents_No</th>\n",
       "      <th>...</th>\n",
       "      <th>PaymentMethod_Bank_transfer_automatic</th>\n",
       "      <th>PaymentMethod_Credit_card_automatic</th>\n",
       "      <th>PaymentMethod_Electronic_check</th>\n",
       "      <th>PaymentMethod_Mailed_check</th>\n",
       "      <th>tenure_group_1_12</th>\n",
       "      <th>tenure_group_13_24</th>\n",
       "      <th>tenure_group_25_36</th>\n",
       "      <th>tenure_group_37_48</th>\n",
       "      <th>tenure_group_49_60</th>\n",
       "      <th>tenure_group_61_72</th>\n",
       "    </tr>\n",
       "  </thead>\n",
       "  <tbody>\n",
       "    <tr>\n",
       "      <th>0</th>\n",
       "      <td>0</td>\n",
       "      <td>1</td>\n",
       "      <td>29.85</td>\n",
       "      <td>29.85</td>\n",
       "      <td>0</td>\n",
       "      <td>1</td>\n",
       "      <td>0</td>\n",
       "      <td>0</td>\n",
       "      <td>1</td>\n",
       "      <td>1</td>\n",
       "      <td>...</td>\n",
       "      <td>0</td>\n",
       "      <td>0</td>\n",
       "      <td>1</td>\n",
       "      <td>0</td>\n",
       "      <td>1</td>\n",
       "      <td>0</td>\n",
       "      <td>0</td>\n",
       "      <td>0</td>\n",
       "      <td>0</td>\n",
       "      <td>0</td>\n",
       "    </tr>\n",
       "    <tr>\n",
       "      <th>1</th>\n",
       "      <td>0</td>\n",
       "      <td>34</td>\n",
       "      <td>56.95</td>\n",
       "      <td>1889.50</td>\n",
       "      <td>0</td>\n",
       "      <td>0</td>\n",
       "      <td>1</td>\n",
       "      <td>1</td>\n",
       "      <td>0</td>\n",
       "      <td>1</td>\n",
       "      <td>...</td>\n",
       "      <td>0</td>\n",
       "      <td>0</td>\n",
       "      <td>0</td>\n",
       "      <td>1</td>\n",
       "      <td>0</td>\n",
       "      <td>0</td>\n",
       "      <td>1</td>\n",
       "      <td>0</td>\n",
       "      <td>0</td>\n",
       "      <td>0</td>\n",
       "    </tr>\n",
       "    <tr>\n",
       "      <th>2</th>\n",
       "      <td>0</td>\n",
       "      <td>2</td>\n",
       "      <td>53.85</td>\n",
       "      <td>108.15</td>\n",
       "      <td>1</td>\n",
       "      <td>0</td>\n",
       "      <td>1</td>\n",
       "      <td>1</td>\n",
       "      <td>0</td>\n",
       "      <td>1</td>\n",
       "      <td>...</td>\n",
       "      <td>0</td>\n",
       "      <td>0</td>\n",
       "      <td>0</td>\n",
       "      <td>1</td>\n",
       "      <td>1</td>\n",
       "      <td>0</td>\n",
       "      <td>0</td>\n",
       "      <td>0</td>\n",
       "      <td>0</td>\n",
       "      <td>0</td>\n",
       "    </tr>\n",
       "    <tr>\n",
       "      <th>3</th>\n",
       "      <td>0</td>\n",
       "      <td>45</td>\n",
       "      <td>42.30</td>\n",
       "      <td>1840.75</td>\n",
       "      <td>0</td>\n",
       "      <td>0</td>\n",
       "      <td>1</td>\n",
       "      <td>1</td>\n",
       "      <td>0</td>\n",
       "      <td>1</td>\n",
       "      <td>...</td>\n",
       "      <td>1</td>\n",
       "      <td>0</td>\n",
       "      <td>0</td>\n",
       "      <td>0</td>\n",
       "      <td>0</td>\n",
       "      <td>0</td>\n",
       "      <td>0</td>\n",
       "      <td>1</td>\n",
       "      <td>0</td>\n",
       "      <td>0</td>\n",
       "    </tr>\n",
       "    <tr>\n",
       "      <th>4</th>\n",
       "      <td>0</td>\n",
       "      <td>2</td>\n",
       "      <td>70.70</td>\n",
       "      <td>151.65</td>\n",
       "      <td>1</td>\n",
       "      <td>1</td>\n",
       "      <td>0</td>\n",
       "      <td>1</td>\n",
       "      <td>0</td>\n",
       "      <td>1</td>\n",
       "      <td>...</td>\n",
       "      <td>0</td>\n",
       "      <td>0</td>\n",
       "      <td>1</td>\n",
       "      <td>0</td>\n",
       "      <td>1</td>\n",
       "      <td>0</td>\n",
       "      <td>0</td>\n",
       "      <td>0</td>\n",
       "      <td>0</td>\n",
       "      <td>0</td>\n",
       "    </tr>\n",
       "  </tbody>\n",
       "</table>\n",
       "<p>5 rows × 52 columns</p>\n",
       "</div>"
      ],
      "text/plain": [
       "   SeniorCitizen  tenure  MonthlyCharges  TotalCharges  Churn  gender_Female  \\\n",
       "0              0       1           29.85         29.85      0              1   \n",
       "1              0      34           56.95       1889.50      0              0   \n",
       "2              0       2           53.85        108.15      1              0   \n",
       "3              0      45           42.30       1840.75      0              0   \n",
       "4              0       2           70.70        151.65      1              1   \n",
       "\n",
       "   gender_Male  Partner_No  Partner_Yes  Dependents_No  ...  \\\n",
       "0            0           0            1              1  ...   \n",
       "1            1           1            0              1  ...   \n",
       "2            1           1            0              1  ...   \n",
       "3            1           1            0              1  ...   \n",
       "4            0           1            0              1  ...   \n",
       "\n",
       "   PaymentMethod_Bank_transfer_automatic  PaymentMethod_Credit_card_automatic  \\\n",
       "0                                      0                                    0   \n",
       "1                                      0                                    0   \n",
       "2                                      0                                    0   \n",
       "3                                      1                                    0   \n",
       "4                                      0                                    0   \n",
       "\n",
       "   PaymentMethod_Electronic_check  PaymentMethod_Mailed_check  \\\n",
       "0                               1                           0   \n",
       "1                               0                           1   \n",
       "2                               0                           1   \n",
       "3                               0                           0   \n",
       "4                               1                           0   \n",
       "\n",
       "   tenure_group_1_12  tenure_group_13_24  tenure_group_25_36  \\\n",
       "0                  1                   0                   0   \n",
       "1                  0                   0                   1   \n",
       "2                  1                   0                   0   \n",
       "3                  0                   0                   0   \n",
       "4                  1                   0                   0   \n",
       "\n",
       "   tenure_group_37_48  tenure_group_49_60  tenure_group_61_72  \n",
       "0                   0                   0                   0  \n",
       "1                   0                   0                   0  \n",
       "2                   0                   0                   0  \n",
       "3                   1                   0                   0  \n",
       "4                   0                   0                   0  \n",
       "\n",
       "[5 rows x 52 columns]"
      ]
     },
     "execution_count": 2,
     "metadata": {},
     "output_type": "execute_result"
    }
   ],
   "source": [
    "# Reading the CSV file\n",
    "df=pd.read_csv(\"telcom_churn.csv\")\n",
    "df.columns = df.columns.str.replace(' ', '')\n",
    "df.head()"
   ]
  },
  {
   "cell_type": "code",
   "execution_count": 3,
   "metadata": {},
   "outputs": [
    {
     "data": {
      "text/html": [
       "<div>\n",
       "<style scoped>\n",
       "    .dataframe tbody tr th:only-of-type {\n",
       "        vertical-align: middle;\n",
       "    }\n",
       "\n",
       "    .dataframe tbody tr th {\n",
       "        vertical-align: top;\n",
       "    }\n",
       "\n",
       "    .dataframe thead th {\n",
       "        text-align: right;\n",
       "    }\n",
       "</style>\n",
       "<table border=\"1\" class=\"dataframe\">\n",
       "  <thead>\n",
       "    <tr style=\"text-align: right;\">\n",
       "      <th></th>\n",
       "      <th>SeniorCitizen</th>\n",
       "      <th>tenure</th>\n",
       "      <th>MonthlyCharges</th>\n",
       "      <th>TotalCharges</th>\n",
       "      <th>gender_Female</th>\n",
       "      <th>gender_Male</th>\n",
       "      <th>Partner_No</th>\n",
       "      <th>Partner_Yes</th>\n",
       "      <th>Dependents_No</th>\n",
       "      <th>Dependents_Yes</th>\n",
       "      <th>...</th>\n",
       "      <th>PaymentMethod_Bank_transfer_automatic</th>\n",
       "      <th>PaymentMethod_Credit_card_automatic</th>\n",
       "      <th>PaymentMethod_Electronic_check</th>\n",
       "      <th>PaymentMethod_Mailed_check</th>\n",
       "      <th>tenure_group_1_12</th>\n",
       "      <th>tenure_group_13_24</th>\n",
       "      <th>tenure_group_25_36</th>\n",
       "      <th>tenure_group_37_48</th>\n",
       "      <th>tenure_group_49_60</th>\n",
       "      <th>tenure_group_61_72</th>\n",
       "    </tr>\n",
       "  </thead>\n",
       "  <tbody>\n",
       "    <tr>\n",
       "      <th>0</th>\n",
       "      <td>0</td>\n",
       "      <td>1</td>\n",
       "      <td>29.85</td>\n",
       "      <td>29.85</td>\n",
       "      <td>1</td>\n",
       "      <td>0</td>\n",
       "      <td>0</td>\n",
       "      <td>1</td>\n",
       "      <td>1</td>\n",
       "      <td>0</td>\n",
       "      <td>...</td>\n",
       "      <td>0</td>\n",
       "      <td>0</td>\n",
       "      <td>1</td>\n",
       "      <td>0</td>\n",
       "      <td>1</td>\n",
       "      <td>0</td>\n",
       "      <td>0</td>\n",
       "      <td>0</td>\n",
       "      <td>0</td>\n",
       "      <td>0</td>\n",
       "    </tr>\n",
       "    <tr>\n",
       "      <th>1</th>\n",
       "      <td>0</td>\n",
       "      <td>34</td>\n",
       "      <td>56.95</td>\n",
       "      <td>1889.50</td>\n",
       "      <td>0</td>\n",
       "      <td>1</td>\n",
       "      <td>1</td>\n",
       "      <td>0</td>\n",
       "      <td>1</td>\n",
       "      <td>0</td>\n",
       "      <td>...</td>\n",
       "      <td>0</td>\n",
       "      <td>0</td>\n",
       "      <td>0</td>\n",
       "      <td>1</td>\n",
       "      <td>0</td>\n",
       "      <td>0</td>\n",
       "      <td>1</td>\n",
       "      <td>0</td>\n",
       "      <td>0</td>\n",
       "      <td>0</td>\n",
       "    </tr>\n",
       "    <tr>\n",
       "      <th>2</th>\n",
       "      <td>0</td>\n",
       "      <td>2</td>\n",
       "      <td>53.85</td>\n",
       "      <td>108.15</td>\n",
       "      <td>0</td>\n",
       "      <td>1</td>\n",
       "      <td>1</td>\n",
       "      <td>0</td>\n",
       "      <td>1</td>\n",
       "      <td>0</td>\n",
       "      <td>...</td>\n",
       "      <td>0</td>\n",
       "      <td>0</td>\n",
       "      <td>0</td>\n",
       "      <td>1</td>\n",
       "      <td>1</td>\n",
       "      <td>0</td>\n",
       "      <td>0</td>\n",
       "      <td>0</td>\n",
       "      <td>0</td>\n",
       "      <td>0</td>\n",
       "    </tr>\n",
       "    <tr>\n",
       "      <th>3</th>\n",
       "      <td>0</td>\n",
       "      <td>45</td>\n",
       "      <td>42.30</td>\n",
       "      <td>1840.75</td>\n",
       "      <td>0</td>\n",
       "      <td>1</td>\n",
       "      <td>1</td>\n",
       "      <td>0</td>\n",
       "      <td>1</td>\n",
       "      <td>0</td>\n",
       "      <td>...</td>\n",
       "      <td>1</td>\n",
       "      <td>0</td>\n",
       "      <td>0</td>\n",
       "      <td>0</td>\n",
       "      <td>0</td>\n",
       "      <td>0</td>\n",
       "      <td>0</td>\n",
       "      <td>1</td>\n",
       "      <td>0</td>\n",
       "      <td>0</td>\n",
       "    </tr>\n",
       "    <tr>\n",
       "      <th>4</th>\n",
       "      <td>0</td>\n",
       "      <td>2</td>\n",
       "      <td>70.70</td>\n",
       "      <td>151.65</td>\n",
       "      <td>1</td>\n",
       "      <td>0</td>\n",
       "      <td>1</td>\n",
       "      <td>0</td>\n",
       "      <td>1</td>\n",
       "      <td>0</td>\n",
       "      <td>...</td>\n",
       "      <td>0</td>\n",
       "      <td>0</td>\n",
       "      <td>1</td>\n",
       "      <td>0</td>\n",
       "      <td>1</td>\n",
       "      <td>0</td>\n",
       "      <td>0</td>\n",
       "      <td>0</td>\n",
       "      <td>0</td>\n",
       "      <td>0</td>\n",
       "    </tr>\n",
       "  </tbody>\n",
       "</table>\n",
       "<p>5 rows × 51 columns</p>\n",
       "</div>"
      ],
      "text/plain": [
       "   SeniorCitizen  tenure  MonthlyCharges  TotalCharges  gender_Female  \\\n",
       "0              0       1           29.85         29.85              1   \n",
       "1              0      34           56.95       1889.50              0   \n",
       "2              0       2           53.85        108.15              0   \n",
       "3              0      45           42.30       1840.75              0   \n",
       "4              0       2           70.70        151.65              1   \n",
       "\n",
       "   gender_Male  Partner_No  Partner_Yes  Dependents_No  Dependents_Yes  ...  \\\n",
       "0            0           0            1              1               0  ...   \n",
       "1            1           1            0              1               0  ...   \n",
       "2            1           1            0              1               0  ...   \n",
       "3            1           1            0              1               0  ...   \n",
       "4            0           1            0              1               0  ...   \n",
       "\n",
       "   PaymentMethod_Bank_transfer_automatic  PaymentMethod_Credit_card_automatic  \\\n",
       "0                                      0                                    0   \n",
       "1                                      0                                    0   \n",
       "2                                      0                                    0   \n",
       "3                                      1                                    0   \n",
       "4                                      0                                    0   \n",
       "\n",
       "   PaymentMethod_Electronic_check  PaymentMethod_Mailed_check  \\\n",
       "0                               1                           0   \n",
       "1                               0                           1   \n",
       "2                               0                           1   \n",
       "3                               0                           0   \n",
       "4                               1                           0   \n",
       "\n",
       "   tenure_group_1_12  tenure_group_13_24  tenure_group_25_36  \\\n",
       "0                  1                   0                   0   \n",
       "1                  0                   0                   1   \n",
       "2                  1                   0                   0   \n",
       "3                  0                   0                   0   \n",
       "4                  1                   0                   0   \n",
       "\n",
       "   tenure_group_37_48  tenure_group_49_60  tenure_group_61_72  \n",
       "0                   0                   0                   0  \n",
       "1                   0                   0                   0  \n",
       "2                   0                   0                   0  \n",
       "3                   1                   0                   0  \n",
       "4                   0                   0                   0  \n",
       "\n",
       "[5 rows x 51 columns]"
      ]
     },
     "execution_count": 3,
     "metadata": {},
     "output_type": "execute_result"
    }
   ],
   "source": [
    "x=df.drop(['Churn'],axis=1)\n",
    "x.head()"
   ]
  },
  {
   "cell_type": "code",
   "execution_count": 4,
   "metadata": {},
   "outputs": [
    {
     "data": {
      "text/plain": [
       "0       0\n",
       "1       0\n",
       "2       1\n",
       "3       0\n",
       "4       1\n",
       "       ..\n",
       "7027    0\n",
       "7028    0\n",
       "7029    0\n",
       "7030    1\n",
       "7031    0\n",
       "Name: Churn, Length: 7032, dtype: int64"
      ]
     },
     "execution_count": 4,
     "metadata": {},
     "output_type": "execute_result"
    }
   ],
   "source": [
    "#Target Class\n",
    "y=df['Churn']\n",
    "y"
   ]
  },
  {
   "cell_type": "code",
   "execution_count": 5,
   "metadata": {},
   "outputs": [
    {
     "data": {
      "image/png": "[encoded data removed]",
      "text/plain": [
       "<Figure size 720x576 with 1 Axes>"
      ]
     },
     "metadata": {
      "needs_background": "light"
     },
     "output_type": "display_data"
    }
   ],
   "source": [
    "#Visualizing the class of the Target variable\n",
    "ax = y.value_counts().plot(kind='bar', figsize=(10, 8), fontsize=13, color='#087E8B')\n",
    "ax.set_title('Customer Churn (0 = Not Churn, 1 = Churn)', size=20, pad=50)\n",
    "ax.set_ylabel('Number of customers', fontsize=14)\n",
    "\n",
    "for i in ax.patches:\n",
    "    ax.text(i.get_x() + 0.19, i.get_height() + 300, str(round(i.get_height(), 2)), fontsize=15)\n"
   ]
  },
  {
   "cell_type": "markdown",
   "metadata": {},
   "source": [
    "As we can see the target variable has imbalance classes, we'll deal with the imbalance class by using SMOTE technique.It is an oversampling technique and creates new minority class synthetic samples. SMOTE works using a k-nearest neighbor algorithm to create synthetic data points.\n",
    "\n",
    "We have a method called SMOTEENN in the imblearn package, the ENN (Edited Nearest Neighbour) is an undersampling technique that removes the instances of majority class on the border or boundary whose predictions made by the KNN algorithm are different from the other majority class points.\n",
    "\n",
    "First SMOTE is applied to create synthetic data points of minority class samples, then using ENN the data points on the border or boundary are removed to increase the separation of the two classes."
   ]
  },
  {
   "cell_type": "code",
   "execution_count": 6,
   "metadata": {},
   "outputs": [],
   "source": [
    "# Splitting the data into training and test sets\n",
    "x_train,x_test,y_train,y_test=train_test_split(x,y,test_size=0.3)"
   ]
  },
  {
   "cell_type": "markdown",
   "metadata": {},
   "source": [
    "### Decision Tree\n",
    "###### First Without Handling imbalance class of target variable, later on we'll handle it"
   ]
  },
  {
   "cell_type": "code",
   "execution_count": 7,
   "metadata": {},
   "outputs": [],
   "source": [
    "# Decision Tree classifier \n",
    "model_dt = DecisionTreeClassifier(criterion='gini',random_state=100,max_depth=6,min_samples_leaf=8)"
   ]
  },
  {
   "cell_type": "code",
   "execution_count": 8,
   "metadata": {},
   "outputs": [
    {
     "data": {
      "text/plain": [
       "DecisionTreeClassifier(max_depth=6, min_samples_leaf=8, random_state=100)"
      ]
     },
     "execution_count": 8,
     "metadata": {},
     "output_type": "execute_result"
    }
   ],
   "source": [
    "model_dt.fit(x_train,y_train)"
   ]
  },
  {
   "cell_type": "code",
   "execution_count": 9,
   "metadata": {},
   "outputs": [
    {
     "data": {
      "text/plain": [
       "array([0, 0, 0, ..., 1, 1, 0], dtype=int64)"
      ]
     },
     "execution_count": 9,
     "metadata": {},
     "output_type": "execute_result"
    }
   ],
   "source": [
    "y_pred = model_dt.predict(x_test)\n",
    "y_pred"
   ]
  },
  {
   "cell_type": "code",
   "execution_count": 10,
   "metadata": {},
   "outputs": [
    {
     "name": "stdout",
     "output_type": "stream",
     "text": [
      "Decision Tree Accuracy: 0.7734597156398104\n"
     ]
    }
   ],
   "source": [
    "# Evaluation metric\n",
    "print(\"Decision Tree Accuracy: {}\".format(accuracy_score(y_test,y_pred)))"
   ]
  },
  {
   "cell_type": "code",
   "execution_count": 11,
   "metadata": {},
   "outputs": [
    {
     "name": "stdout",
     "output_type": "stream",
     "text": [
      "              precision    recall  f1-score   support\n",
      "\n",
      "           0       0.81      0.89      0.85      1519\n",
      "           1       0.62      0.48      0.54       591\n",
      "\n",
      "    accuracy                           0.77      2110\n",
      "   macro avg       0.72      0.68      0.70      2110\n",
      "weighted avg       0.76      0.77      0.76      2110\n",
      "\n"
     ]
    }
   ],
   "source": [
    "print(classification_report(y_test, y_pred, labels=[0,1]))"
   ]
  },
  {
   "cell_type": "markdown",
   "metadata": {},
   "source": [
    "Here as  we see that the accuracy is 77% and as it's an imbalanced dataset, we shouldn't consider Accuracy as our metrics to measure the model, as Accuracy is cursed in imbalanced datasets."
   ]
  },
  {
   "cell_type": "markdown",
   "metadata": {},
   "source": [
    "Hence, we need to check recall, precision & f1 score for the minority class, and it's quite evident that the precision, recall & f1 score is too low for Class 1, i.e. churned customers"
   ]
  },
  {
   "cell_type": "code",
   "execution_count": 12,
   "metadata": {},
   "outputs": [],
   "source": [
    "# Balancing the dataset\n",
    "sm = SMOTEENN(random_state=42)\n",
    "X_resampled, y_resampled = sm.fit_sample(x,y)"
   ]
  },
  {
   "cell_type": "code",
   "execution_count": 13,
   "metadata": {},
   "outputs": [],
   "source": [
    "xr_train,xr_test,yr_train,yr_test=train_test_split(X_resampled, y_resampled,test_size=0.3)"
   ]
  },
  {
   "cell_type": "code",
   "execution_count": 14,
   "metadata": {},
   "outputs": [],
   "source": [
    "model_dt_smote=DecisionTreeClassifier(criterion = \"gini\",random_state = 100,max_depth=6, min_samples_leaf=8)"
   ]
  },
  {
   "cell_type": "code",
   "execution_count": 15,
   "metadata": {},
   "outputs": [
    {
     "name": "stdout",
     "output_type": "stream",
     "text": [
      "Decision Tree Accuracy (resampled): 0.9383135257498585\n",
      "              precision    recall  f1-score   support\n",
      "\n",
      "           0       0.93      0.93      0.93       781\n",
      "           1       0.95      0.94      0.94       986\n",
      "\n",
      "    accuracy                           0.94      1767\n",
      "   macro avg       0.94      0.94      0.94      1767\n",
      "weighted avg       0.94      0.94      0.94      1767\n",
      "\n"
     ]
    }
   ],
   "source": [
    "model_dt_smote.fit(xr_train,yr_train)\n",
    "yr_predict = model_dt_smote.predict(xr_test)\n",
    "print(\"Decision Tree Accuracy (resampled): {}\".format(accuracy_score(yr_test,yr_predict)))\n",
    "print(classification_report(yr_test, yr_predict, labels=[0,1]))"
   ]
  },
  {
   "cell_type": "code",
   "execution_count": 16,
   "metadata": {},
   "outputs": [
    {
     "name": "stdout",
     "output_type": "stream",
     "text": [
      "[[727  54]\n",
      " [ 55 931]]\n"
     ]
    }
   ],
   "source": [
    "print(confusion_matrix(yr_test, yr_predict))"
   ]
  },
  {
   "cell_type": "markdown",
   "metadata": {},
   "source": [
    "Now we can see quite better results, i.e. Accuracy:  94 %, and a very good recall, precision & f1 score for minority class. For majority class, low recall score indicates a higher number of false-negatives."
   ]
  },
  {
   "cell_type": "markdown",
   "metadata": {},
   "source": [
    "### Random Forest\n",
    "###### Random Forest Classifier which is simply a bootstrapped version of many decision trees.\n"
   ]
  },
  {
   "cell_type": "code",
   "execution_count": 17,
   "metadata": {},
   "outputs": [],
   "source": [
    "model_rf=RandomForestClassifier(n_estimators=100, criterion='gini', random_state = 100,max_depth=6, min_samples_leaf=8)"
   ]
  },
  {
   "cell_type": "code",
   "execution_count": 18,
   "metadata": {},
   "outputs": [
    {
     "data": {
      "text/plain": [
       "RandomForestClassifier(max_depth=6, min_samples_leaf=8, random_state=100)"
      ]
     },
     "execution_count": 18,
     "metadata": {},
     "output_type": "execute_result"
    }
   ],
   "source": [
    "#Fit the resampled train data\n",
    "model_rf.fit(xr_train,yr_train)"
   ]
  },
  {
   "cell_type": "code",
   "execution_count": 19,
   "metadata": {},
   "outputs": [],
   "source": [
    "y_pred_rf=model_rf.predict(xr_test)"
   ]
  },
  {
   "cell_type": "code",
   "execution_count": 20,
   "metadata": {},
   "outputs": [
    {
     "name": "stdout",
     "output_type": "stream",
     "text": [
      "Random Forest Accuracy (resampled): 0.9439728353140917\n",
      "              precision    recall  f1-score   support\n",
      "\n",
      "           0       0.95      0.92      0.94       781\n",
      "           1       0.94      0.96      0.95       986\n",
      "\n",
      "    accuracy                           0.94      1767\n",
      "   macro avg       0.95      0.94      0.94      1767\n",
      "weighted avg       0.94      0.94      0.94      1767\n",
      "\n"
     ]
    }
   ],
   "source": [
    "print(\"Random Forest Accuracy (resampled): {}\".format(accuracy_score(yr_test,y_pred_rf)))\n",
    "print(classification_report(yr_test, y_pred_rf, labels=[0,1]))"
   ]
  },
  {
   "cell_type": "markdown",
   "metadata": {},
   "source": [
    "Accuracy score did not change significantly with the Random Forest, still a minor improvement."
   ]
  },
  {
   "cell_type": "code",
   "execution_count": 21,
   "metadata": {},
   "outputs": [
    {
     "name": "stdout",
     "output_type": "stream",
     "text": [
      "[1 0 0 1 1 0 0 0 0 1 0 1 1 1 1 1 0 0 0 0 1 1 1 0 1 0 1 1 0 0 0 0 1 1 1 0 1\n",
      " 1 1 1 1 1 1 1 1 1 1 1 0 0 0 1 1 1 1 0 1 1 0 1 0 1 0 1 0 0 1 1 0 1 1 0 1 1\n",
      " 0 0 0 0 0 1 0 0 0 0 0 1 0 0 0 1 1 1 0 1 0 1 0 1 0 1 1 1 1 1 1 0 0 1 1 1 1\n",
      " 1 0 1 1 1 1 0 0 1 0 1 0 0 1 1 1 1 1 1 0 0 0 1 1 1 0 1 1 1 1 1 0 0 0 1 0 1\n",
      " 1 0 1 1 0 1 1 1 0 1 1 0 1 0 1 0 1 1 0 0 1 1 1 1 1 0 0 1 1 1 1 1 1 1 0 1 1\n",
      " 0 1 0 1 0 0 0 1 0 0 1 1 1 1 0 1 1 1 0 0 1 0 1 0 0 1 0 1 0 0 1 1 0 1 1 1 0\n",
      " 1 1 0 0 1 1 0 1 1 0 1 0 0 0 0 0 0 0 1 0 0 1 1 1 1 0 1 1 1 1 1 0 1 0 0 1 1\n",
      " 1 1 1 1 0 0 1 0 0 1 1 1 0 1 1 0 0 0 1 1 0 1 1 0 1 0 1 1 1 1 1 1 1 1 1 1 1\n",
      " 1 1 1 0 0 1 1 1 1 1 0 0 1 0 0 1 0 0 1 1 1 1 0 1 1 0 0 0 1 1 1 0 0 0 1 1 1\n",
      " 0 0 0 1 0 1 1 1 1 0 0 1 0 1 1 1 1 0 1 1 1 0 1 1 1 1 0 0 0 0 1 0 0 1 1 1 0\n",
      " 0 0 0 1 0 1 0 1 0 1 1 0 1 1 0 0 1 0 0 1 1 1 1 1 1 1 0 0 1 1 1 1 0 1 1 1 1\n",
      " 1 1 1 1 0 0 1 0 0 0 1 1 0 1 1 0 1 1 1 0 0 0 0 1 0 0 1 1 1 1 1 1 1 0 1 1 1\n",
      " 1 1 1 0 0 0 1 1 1 0 0 1 0 1 1 0 1 0 1 1 0 0 1 0 0 0 1 1 1 0 0 1 1 1 0 0 0\n",
      " 0 0 0 1 0 1 1 1 1 0 0 0 0 0 1 1 1 1 0 1 1 1 1 0 0 0 1 0 0 0 1 1 1 0 0 1 1\n",
      " 0 0 0 1 0 1 1 0 0 0 0 1 1 0 0 1 1 1 1 1 0 1 0 1 1 0 0 1 1 1 1 1 1 0 1 1 1\n",
      " 0 0 1 0 1 1 1 1 1 1 0 1 1 0 0 1 1 1 1 0 0 1 1 0 0 1 1 0 0 1 1 0 0 1 1 1 1\n",
      " 1 1 1 1 0 1 0 1 1 1 1 1 1 0 1 0 0 0 1 0 0 1 0 0 0 1 1 1 0 1 1 1 1 1 0 1 1\n",
      " 1 0 1 1 0 0 1 0 0 1 1 1 1 1 1 0 0 1 0 0 1 1 0 0 0 1 0 1 1 0 1 0 1 0 0 0 0\n",
      " 1 1 0 0 0 1 0 0 1 0 0 1 0 1 0 1 1 0 1 1 1 0 0 0 1 1 1 1 1 0 0 0 0 1 0 1 1\n",
      " 1 1 1 0 0 0 1 1 0 0 0 1 1 0 1 1 0 0 1 0 1 0 1 1 0 1 1 1 1 1 0 0 1 0 1 1 0\n",
      " 0 1 1 0 0 1 1 1 1 0 1 0 0 0 1 0 0 1 0 1 0 0 0 0 1 1 0 1 0 1 1 1 0 0 1 0 1\n",
      " 0 0 0 1 1 1 1 1 1 1 1 0 0 0 1 0 0 0 0 0 1 1 0 1 1 0 0 0 0 1 1 0 1 1 1 0 1\n",
      " 1 0 1 1 0 1 0 0 0 1 0 1 0 1 1 0 1 1 1 1 1 1 1 0 1 1 0 0 0 0 0 0 0 1 1 1 1\n",
      " 1 1 1 1 1 0 1 0 1 1 0 0 0 1 0 1 1 1 0 0 1 1 1 1 0 1 0 1 1 0 1 0 1 1 1 0 1\n",
      " 1 1 0 0 1 1 1 1 0 1 1 1 0 0 0 1 1 1 1 1 1 0 0 0 1 1 1 1 0 1 0 1 0 1 1 1 0\n",
      " 1 0 0 0 1 1 1 0 0 0 0 1 1 0 1 0 1 1 0 1 1 0 0 1 0 1 0 1 1 1 0 1 0 1 1 0 0\n",
      " 1 0 0 1 1 0 0 1 0 1 0 1 1 1 1 1 0 1 1 1 0 1 0 0 1 1 1 0 0 1 0 1 0 0 1 1 1\n",
      " 1 0 1 0 1 1 0 0 0 0 1 0 1 0 1 1 0 0 0 1 1 0 1 0 1 1 1 1 1 0 1 0 1 1 1 1 0\n",
      " 0 1 0 1 0 1 0 0 0 1 1 1 0 0 1 1 1 1 1 1 0 0 0 1 0 0 0 0 0 1 1 1 1 1 1 1 1\n",
      " 1 1 1 1 1 1 0 0 1 0 1 0 1 0 1 0 0 0 1 1 0 0 0 1 1 1 0 1 0 1 0 0 1 1 1 1 1\n",
      " 0 1 1 0 1 1 1 0 1 0 0 1 0 1 0 1 1 0 1 0 1 1 1 1 0 0 1 0 1 1 1 1 1 0 1 0 0\n",
      " 0 1 0 0 0 1 0 1 0 0 1 0 0 1 0 0 1 1 0 0 1 1 0 0 0 1 0 1 1 1 1 1 1 1 1 1 1\n",
      " 1 0 0 0 0 0 0 0 1 1 1 1 0 0 0 1 0 0 1 1 1 1 0 0 1 0 0 0 1 0 1 1 1 1 1 1 1\n",
      " 1 0 0 1 1 1 1 1 0 0 0 1 1 1 0 1 0 1 1 1 1 1 1 1 0 1 0 0 1 1 1 1 0 1 0 1 0\n",
      " 0 1 0 1 0 0 1 0 0 1 0 0 0 0 0 0 1 1 0 1 1 0 1 0 0 1 0 1 1 0 0 1 1 0 1 1 0\n",
      " 1 1 1 1 1 0 1 0 0 1 1 0 0 1 1 1 1 0 1 1 0 0 1 0 1 0 1 0 1 1 1 1 1 1 1 1 1\n",
      " 1 1 0 1 1 1 0 1 1 1 0 1 1 0 0 0 0 0 1 1 1 0 0 1 1 0 1 0 0 1 1 1 0 1 1 0 0\n",
      " 0 1 1 0 0 1 0 1 1 1 0 0 1 1 0 0 1 1 0 0 1 1 0 1 1 1 1 1 1 0 1 0 0 1 1 0 1\n",
      " 0 1 1 1 0 1 0 1 1 1 0 1 1 0 1 0 0 0 1 0 0 1 1 0 1 1 0 0 1 0 0 1 1 1 1 0 0\n",
      " 1 0 1 0 0 1 1 0 1 1 1 0 1 1 1 1 0 1 0 1 0 0 1 1 1 0 1 0 1 1 0 1 1 1 1 1 1\n",
      " 0 0 1 0 1 1 1 1 1 1 1 1 0 1 1 0 1 1 1 0 0 1 0 1 0 0 0 1 1 1 1 0 0 0 1 1 1\n",
      " 0 0 1 1 1 1 1 0 1 0 1 0 1 1 0 0 1 1 0 1 1 1 0 1 1 1 0 1 1 0 1 1 1 1 1 0 1\n",
      " 0 0 1 1 1 1 1 0 1 0 0 0 0 0 0 0 0 1 0 1 0 0 0 1 0 0 1 1 0 1 0 0 0 0 0 0 0\n",
      " 1 1 1 1 1 1 1 1 1 0 0 1 1 0 0 0 0 0 0 0 0 0 1 1 0 1 0 1 0 1 0 1 0 1 1 1 1\n",
      " 0 0 0 1 0 1 1 0 0 1 1 1 1 1 0 1 1 0 1 1 1 1 1 1 1 0 1 0 0 0 0 0 0 0 1 0 0\n",
      " 1 1 1 1 0 0 1 1 0 0 1 1 1 1 1 0 1 0 0 0 0 0 0 0 0 0 0 0 0 1 1 1 0 1 0 1 1\n",
      " 1 1 1 0 1 0 0 1 1 1 1 1 1 1 1 1 0 0 0 0 1 1 1 0 1 0 0 0 0 0 1 1 1 0 1 1 1\n",
      " 1 0 1 1 1 1 0 0 0 1 1 0 1 1 0 1 0 1 1 1 1 1 1 0 0 0 0 1]\n"
     ]
    }
   ],
   "source": [
    "with np.printoptions(threshold=np.inf):\n",
    "    print(y_pred_rf)"
   ]
  },
  {
   "cell_type": "code",
   "execution_count": 26,
   "metadata": {},
   "outputs": [
    {
     "data": {
      "text/plain": [
       "<AxesSubplot:>"
      ]
     },
     "execution_count": 26,
     "metadata": {},
     "output_type": "execute_result"
    },
    {
     "data": {
      "image/png": "[encoded data removed]",
      "text/plain": [
       "<Figure size 432x288 with 1 Axes>"
      ]
     },
     "metadata": {
      "needs_background": "light"
     },
     "output_type": "display_data"
    }
   ],
   "source": [
    "feat_importances = pd.Series(model_rf.feature_importances_, index=xr_train.columns).sort_values(ascending=False)\n",
    "feat_importances.nlargest(5).plot(kind='barh')"
   ]
  },
  {
   "cell_type": "markdown",
   "metadata": {},
   "source": [
    "These are the top 5 features which impacts the performance the most to the Regression classifier model"
   ]
  },
  {
   "cell_type": "code",
   "execution_count": 22,
   "metadata": {},
   "outputs": [
    {
     "data": {
      "text/plain": [
       "<sklearn.metrics._plot.roc_curve.RocCurveDisplay at 0x1c5c32c79d0>"
      ]
     },
     "execution_count": 22,
     "metadata": {},
     "output_type": "execute_result"
    },
    {
     "data": {
      "image/png": "[encoded data removed]",
      "text/plain": [
       "<Figure size 432x288 with 2 Axes>"
      ]
     },
     "metadata": {
      "needs_background": "light"
     },
     "output_type": "display_data"
    },
    {
     "data": {
      "image/png": "[encoded data removed]",
      "text/plain": [
       "<Figure size 432x288 with 1 Axes>"
      ]
     },
     "metadata": {
      "needs_background": "light"
     },
     "output_type": "display_data"
    }
   ],
   "source": [
    "#Plotting Confusion matrix with RandomForest classifier\n",
    "plot_confusion_matrix(model_rf,xr_test,yr_test)\n",
    "#AUC-ROC curve\n",
    "plot_roc_curve(model_rf,xr_test,yr_test)"
   ]
  },
  {
   "cell_type": "markdown",
   "metadata": {},
   "source": [
    "\n",
    "Plotting AUC- ROC curve, which shows how much the model is capable of distinguishing between classes. Higher the AUC, the better the model is at predicting 0 classes as 0 and 1 classes as 1. By analogy, the Higher the AUC, the better the model is at distinguishing between customers who will churn and who are going to stay."
   ]
  },
  {
   "cell_type": "markdown",
   "metadata": {},
   "source": [
    "Our final model i.e. Random forest Classifier with SMOTEENN, is now ready and dumped in model_RF.sav, which can be used to prepare API so that we can access our model from UI post cloud deployment."
   ]
  },
  {
   "cell_type": "code",
   "execution_count": 29,
   "metadata": {},
   "outputs": [],
   "source": [
    "# Pickling the model\n",
    "fname = 'model_rf.sav'\n",
    "pickle.dump(model_rf, open(fname, 'wb'))"
   ]
  },
  {
   "cell_type": "code",
   "execution_count": 30,
   "metadata": {},
   "outputs": [
    {
     "data": {
      "text/plain": [
       "0.9439728353140917"
      ]
     },
     "execution_count": 30,
     "metadata": {},
     "output_type": "execute_result"
    }
   ],
   "source": [
    "load_model_rf = pickle.load(open(fname, 'rb'))\n",
    "model_score_rf = load_model_rf.score(xr_test, yr_test)\n",
    "model_score_rf"
   ]
  }
 ],
 "metadata": {
  "interpreter": {
   "hash": "5071d4858d71fe7e7ce32b9a2bd7d84e7dedb1f24571273f57b204aa4aec55ea"
  },
  "kernelspec": {
   "display_name": "Myenv_was",
   "language": "python",
   "name": "myenv_was"
  },
  "language_info": {
   "codemirror_mode": {
    "name": "ipython",
    "version": 3
   },
   "file_extension": ".py",
   "mimetype": "text/x-python",
   "name": "python",
   "nbconvert_exporter": "python",
   "pygments_lexer": "ipython3",
   "version": "3.8.1"
  },
  "orig_nbformat": 2
 },
 "nbformat": 4,
 "nbformat_minor": 2
}
